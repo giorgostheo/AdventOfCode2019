{
 "cells": [
  {
   "cell_type": "code",
   "execution_count": 4,
   "metadata": {
    "ExecuteTime": {
     "end_time": "2019-12-15T22:44:09.208583Z",
     "start_time": "2019-12-15T22:44:09.164831Z"
    }
   },
   "outputs": [],
   "source": [
    "f = open(\"input\", \"r\")"
   ]
  },
  {
   "cell_type": "code",
   "execution_count": 99,
   "metadata": {
    "ExecuteTime": {
     "end_time": "2019-12-15T23:22:53.100636Z",
     "start_time": "2019-12-15T23:22:53.089291Z"
    }
   },
   "outputs": [],
   "source": [
    " def findIntersection(line1,line2):\n",
    "        x1,y2,x2,y2 = [*line1[0],*line1[1]]\n",
    "        x3,y3,x4,y4 = [*line2[0],*line2[1]]\n",
    "        px= ( (x1*y2-y1*x2)*(x3-x4)-(x1-x2)*(x3*y4-y3*x4) ) / ( (x1-x2)*(y3-y4)-(y1-y2)*(x3-x4) ) \n",
    "        py= ( (x1*y2-y1*x2)*(y3-y4)-(y1-y2)*(x3*y4-y3*x4) ) / ( (x1-x2)*(y3-y4)-(y1-y2)*(x3-x4) )\n",
    "        return [px, py]"
   ]
  },
  {
   "cell_type": "code",
   "execution_count": 44,
   "metadata": {
    "ExecuteTime": {
     "end_time": "2019-12-15T22:59:56.672286Z",
     "start_time": "2019-12-15T22:59:56.657957Z"
    }
   },
   "outputs": [],
   "source": [
    "def line_intersection(line1, line2):\n",
    "    xdiff = (line1[0][0] - line1[1][0], line2[0][0] - line2[1][0])\n",
    "    ydiff = (line1[0][1] - line1[1][1], line2[0][1] - line2[1][1])\n",
    "\n",
    "    def det(a, b):\n",
    "        return a[0] * b[1] - a[1] * b[0]\n",
    "\n",
    "    div = det(xdiff, ydiff)\n",
    "    if div == 0:\n",
    "        raise Exception('lines do not intersect')\n",
    "\n",
    "    d = (det(*line1), det(*line2))\n",
    "    x = det(d, xdiff) / div\n",
    "    y = det(d, ydiff) / div\n",
    "    return x, y\n",
    "\n",
    "# print line_intersection((A, B), (C, D))"
   ]
  },
  {
   "cell_type": "code",
   "execution_count": 96,
   "metadata": {
    "ExecuteTime": {
     "end_time": "2019-12-15T23:21:03.615872Z",
     "start_time": "2019-12-15T23:21:03.611324Z"
    }
   },
   "outputs": [],
   "source": [
    "x1,x2,y1,y2 = [*[1,1],*[0,0]]"
   ]
  },
  {
   "cell_type": "code",
   "execution_count": 100,
   "metadata": {
    "ExecuteTime": {
     "end_time": "2019-12-15T23:22:56.241036Z",
     "start_time": "2019-12-15T23:22:56.205833Z"
    }
   },
   "outputs": [
    {
     "ename": "ZeroDivisionError",
     "evalue": "division by zero",
     "output_type": "error",
     "traceback": [
      "\u001b[0;31m---------------------------------------------------------------------------\u001b[0m",
      "\u001b[0;31mZeroDivisionError\u001b[0m                         Traceback (most recent call last)",
      "\u001b[0;32m<ipython-input-100-a980c219f133>\u001b[0m in \u001b[0;36m<module>\u001b[0;34m\u001b[0m\n\u001b[0;32m----> 1\u001b[0;31m \u001b[0mfindIntersection\u001b[0m\u001b[0;34m(\u001b[0m\u001b[0;34m[\u001b[0m\u001b[0;34m[\u001b[0m\u001b[0;36m0\u001b[0m\u001b[0;34m,\u001b[0m\u001b[0;36m0\u001b[0m\u001b[0;34m]\u001b[0m\u001b[0;34m,\u001b[0m \u001b[0;34m[\u001b[0m\u001b[0;36m0\u001b[0m\u001b[0;34m,\u001b[0m\u001b[0;36m1\u001b[0m\u001b[0;34m]\u001b[0m\u001b[0;34m]\u001b[0m\u001b[0;34m,\u001b[0m \u001b[0;34m[\u001b[0m\u001b[0;34m[\u001b[0m\u001b[0;36m3\u001b[0m\u001b[0;34m,\u001b[0m\u001b[0;36m3\u001b[0m\u001b[0;34m]\u001b[0m\u001b[0;34m,\u001b[0m \u001b[0;34m[\u001b[0m\u001b[0;36m3\u001b[0m\u001b[0;34m,\u001b[0m\u001b[0;36m4\u001b[0m\u001b[0;34m]\u001b[0m\u001b[0;34m]\u001b[0m\u001b[0;34m)\u001b[0m\u001b[0;34m\u001b[0m\u001b[0;34m\u001b[0m\u001b[0m\n\u001b[0m",
      "\u001b[0;32m<ipython-input-99-c63eb07d0fdf>\u001b[0m in \u001b[0;36mfindIntersection\u001b[0;34m(line1, line2)\u001b[0m\n\u001b[1;32m      2\u001b[0m        \u001b[0mx1\u001b[0m\u001b[0;34m,\u001b[0m\u001b[0my2\u001b[0m\u001b[0;34m,\u001b[0m\u001b[0mx2\u001b[0m\u001b[0;34m,\u001b[0m\u001b[0my2\u001b[0m \u001b[0;34m=\u001b[0m \u001b[0;34m[\u001b[0m\u001b[0;34m*\u001b[0m\u001b[0mline1\u001b[0m\u001b[0;34m[\u001b[0m\u001b[0;36m0\u001b[0m\u001b[0;34m]\u001b[0m\u001b[0;34m,\u001b[0m\u001b[0;34m*\u001b[0m\u001b[0mline1\u001b[0m\u001b[0;34m[\u001b[0m\u001b[0;36m1\u001b[0m\u001b[0;34m]\u001b[0m\u001b[0;34m]\u001b[0m\u001b[0;34m\u001b[0m\u001b[0;34m\u001b[0m\u001b[0m\n\u001b[1;32m      3\u001b[0m        \u001b[0mx3\u001b[0m\u001b[0;34m,\u001b[0m\u001b[0my3\u001b[0m\u001b[0;34m,\u001b[0m\u001b[0mx4\u001b[0m\u001b[0;34m,\u001b[0m\u001b[0my4\u001b[0m \u001b[0;34m=\u001b[0m \u001b[0;34m[\u001b[0m\u001b[0;34m*\u001b[0m\u001b[0mline2\u001b[0m\u001b[0;34m[\u001b[0m\u001b[0;36m0\u001b[0m\u001b[0;34m]\u001b[0m\u001b[0;34m,\u001b[0m\u001b[0;34m*\u001b[0m\u001b[0mline2\u001b[0m\u001b[0;34m[\u001b[0m\u001b[0;36m1\u001b[0m\u001b[0;34m]\u001b[0m\u001b[0;34m]\u001b[0m\u001b[0;34m\u001b[0m\u001b[0;34m\u001b[0m\u001b[0m\n\u001b[0;32m----> 4\u001b[0;31m        \u001b[0mpx\u001b[0m\u001b[0;34m=\u001b[0m \u001b[0;34m(\u001b[0m \u001b[0;34m(\u001b[0m\u001b[0mx1\u001b[0m\u001b[0;34m*\u001b[0m\u001b[0my2\u001b[0m\u001b[0;34m-\u001b[0m\u001b[0my1\u001b[0m\u001b[0;34m*\u001b[0m\u001b[0mx2\u001b[0m\u001b[0;34m)\u001b[0m\u001b[0;34m*\u001b[0m\u001b[0;34m(\u001b[0m\u001b[0mx3\u001b[0m\u001b[0;34m-\u001b[0m\u001b[0mx4\u001b[0m\u001b[0;34m)\u001b[0m\u001b[0;34m-\u001b[0m\u001b[0;34m(\u001b[0m\u001b[0mx1\u001b[0m\u001b[0;34m-\u001b[0m\u001b[0mx2\u001b[0m\u001b[0;34m)\u001b[0m\u001b[0;34m*\u001b[0m\u001b[0;34m(\u001b[0m\u001b[0mx3\u001b[0m\u001b[0;34m*\u001b[0m\u001b[0my4\u001b[0m\u001b[0;34m-\u001b[0m\u001b[0my3\u001b[0m\u001b[0;34m*\u001b[0m\u001b[0mx4\u001b[0m\u001b[0;34m)\u001b[0m \u001b[0;34m)\u001b[0m \u001b[0;34m/\u001b[0m \u001b[0;34m(\u001b[0m \u001b[0;34m(\u001b[0m\u001b[0mx1\u001b[0m\u001b[0;34m-\u001b[0m\u001b[0mx2\u001b[0m\u001b[0;34m)\u001b[0m\u001b[0;34m*\u001b[0m\u001b[0;34m(\u001b[0m\u001b[0my3\u001b[0m\u001b[0;34m-\u001b[0m\u001b[0my4\u001b[0m\u001b[0;34m)\u001b[0m\u001b[0;34m-\u001b[0m\u001b[0;34m(\u001b[0m\u001b[0my1\u001b[0m\u001b[0;34m-\u001b[0m\u001b[0my2\u001b[0m\u001b[0;34m)\u001b[0m\u001b[0;34m*\u001b[0m\u001b[0;34m(\u001b[0m\u001b[0mx3\u001b[0m\u001b[0;34m-\u001b[0m\u001b[0mx4\u001b[0m\u001b[0;34m)\u001b[0m \u001b[0;34m)\u001b[0m\u001b[0;34m\u001b[0m\u001b[0;34m\u001b[0m\u001b[0m\n\u001b[0m\u001b[1;32m      5\u001b[0m        \u001b[0mpy\u001b[0m\u001b[0;34m=\u001b[0m \u001b[0;34m(\u001b[0m \u001b[0;34m(\u001b[0m\u001b[0mx1\u001b[0m\u001b[0;34m*\u001b[0m\u001b[0my2\u001b[0m\u001b[0;34m-\u001b[0m\u001b[0my1\u001b[0m\u001b[0;34m*\u001b[0m\u001b[0mx2\u001b[0m\u001b[0;34m)\u001b[0m\u001b[0;34m*\u001b[0m\u001b[0;34m(\u001b[0m\u001b[0my3\u001b[0m\u001b[0;34m-\u001b[0m\u001b[0my4\u001b[0m\u001b[0;34m)\u001b[0m\u001b[0;34m-\u001b[0m\u001b[0;34m(\u001b[0m\u001b[0my1\u001b[0m\u001b[0;34m-\u001b[0m\u001b[0my2\u001b[0m\u001b[0;34m)\u001b[0m\u001b[0;34m*\u001b[0m\u001b[0;34m(\u001b[0m\u001b[0mx3\u001b[0m\u001b[0;34m*\u001b[0m\u001b[0my4\u001b[0m\u001b[0;34m-\u001b[0m\u001b[0my3\u001b[0m\u001b[0;34m*\u001b[0m\u001b[0mx4\u001b[0m\u001b[0;34m)\u001b[0m \u001b[0;34m)\u001b[0m \u001b[0;34m/\u001b[0m \u001b[0;34m(\u001b[0m \u001b[0;34m(\u001b[0m\u001b[0mx1\u001b[0m\u001b[0;34m-\u001b[0m\u001b[0mx2\u001b[0m\u001b[0;34m)\u001b[0m\u001b[0;34m*\u001b[0m\u001b[0;34m(\u001b[0m\u001b[0my3\u001b[0m\u001b[0;34m-\u001b[0m\u001b[0my4\u001b[0m\u001b[0;34m)\u001b[0m\u001b[0;34m-\u001b[0m\u001b[0;34m(\u001b[0m\u001b[0my1\u001b[0m\u001b[0;34m-\u001b[0m\u001b[0my2\u001b[0m\u001b[0;34m)\u001b[0m\u001b[0;34m*\u001b[0m\u001b[0;34m(\u001b[0m\u001b[0mx3\u001b[0m\u001b[0;34m-\u001b[0m\u001b[0mx4\u001b[0m\u001b[0;34m)\u001b[0m \u001b[0;34m)\u001b[0m\u001b[0;34m\u001b[0m\u001b[0;34m\u001b[0m\u001b[0m\n\u001b[1;32m      6\u001b[0m        \u001b[0;32mreturn\u001b[0m \u001b[0;34m[\u001b[0m\u001b[0mpx\u001b[0m\u001b[0;34m,\u001b[0m \u001b[0mpy\u001b[0m\u001b[0;34m]\u001b[0m\u001b[0;34m\u001b[0m\u001b[0;34m\u001b[0m\u001b[0m\n",
      "\u001b[0;31mZeroDivisionError\u001b[0m: division by zero"
     ]
    }
   ],
   "source": [
    "findIntersection([[0,0], [0,1]], [[3,3], [3,4]])"
   ]
  },
  {
   "cell_type": "code",
   "execution_count": 111,
   "metadata": {
    "ExecuteTime": {
     "end_time": "2019-12-15T23:27:57.307662Z",
     "start_time": "2019-12-15T23:27:57.296628Z"
    }
   },
   "outputs": [
    {
     "name": "stdout",
     "output_type": "stream",
     "text": [
      "POINT (1 1)\n"
     ]
    }
   ],
   "source": [
    "from shapely.geometry import LineString, Point\n",
    "\n",
    "line1 = LineString([(0,0), (1,0), (1,1)])\n",
    "line2 = LineString([(0,1), (1,1)])\n",
    "\n",
    "print(line1.intersection(line2))"
   ]
  },
  {
   "cell_type": "code",
   "execution_count": 103,
   "metadata": {
    "ExecuteTime": {
     "end_time": "2019-12-15T23:25:39.298289Z",
     "start_time": "2019-12-15T23:25:39.290121Z"
    }
   },
   "outputs": [],
   "source": [
    "def get_lines(instr):\n",
    "    line1 = []\n",
    "    point = [0,0]\n",
    "    for instr in instr:\n",
    "        n_point = gen_new_point(point, instr)\n",
    "        line1.append(n_point)\n",
    "        point = n_point\n",
    "    return LineString(line1)\n",
    "    \n"
   ]
  },
  {
   "cell_type": "code",
   "execution_count": 115,
   "metadata": {
    "ExecuteTime": {
     "end_time": "2019-12-15T23:30:51.342296Z",
     "start_time": "2019-12-15T23:30:51.325317Z"
    }
   },
   "outputs": [
    {
     "name": "stdout",
     "output_type": "stream",
     "text": [
      "MULTIPOINT (4143 -4417, 4143 -3904, 4240 -1730, 4240 -1676, 4240 -1272, 4240 -1131, 4240 -1117, 4318 -1272, 4318 -1131, 4514 -1676, 4522 -3564, 4691 -3564, 4737 -1676, 5024 -2363, 5024 -2310, 5024 -2120, 5084 -3426, 5084 -3035, 5087 -2002, 5087 -1855, 5102 -1492, 5162 -2002, 5162 -1855, 5165 -2446, 5165 -2363, 5165 -2336, 5165 -2310, 5242 -2446, 5242 -2363, 5242 -2336, 5242 -2310, 5242 -2170, 5340 -2297, 5421 -1492, 5447 -2924, 5447 -2544, 5450 -1492, 5643 -3733, 5658 -2297, 5658 -2214, 5672 -2297, 5672 -2214, 5672 -1882, 5996 -3126, 5996 -2930, 6001 -3716, 6067 -3126, 6067 -2930, 6100 -3834, 6100 -3814, 6100 -3675, 6100 -3126, 6100 -2930, 6210 -4079, 6210 -3928, 6210 -3920, 6210 -3834, 6210 -3814, 6311 -4214, 6365 -4214, 6618 -3042, 6709 -2082, 6722 -4214, 6835 -2903, 6835 -2730, 6835 -2527, 6835 -2492, 6835 -2443, 6927 -3698, 6927 -3454)\n"
     ]
    }
   ],
   "source": [
    "ln1 = get_lines(instr0)\n",
    "ln2 = get_lines(instr1)\n",
    "print(ln1.intersection(ln2))"
   ]
  },
  {
   "cell_type": "code",
   "execution_count": 120,
   "metadata": {
    "ExecuteTime": {
     "end_time": "2019-12-15T23:36:14.573140Z",
     "start_time": "2019-12-15T23:36:14.556165Z"
    }
   },
   "outputs": [
    {
     "data": {
      "text/plain": [
       "0.0"
      ]
     },
     "execution_count": 120,
     "metadata": {},
     "output_type": "execute_result"
    }
   ],
   "source": [
    "ln1.distance(ln1.intersection(ln2)[0])"
   ]
  },
  {
   "cell_type": "code",
   "execution_count": 157,
   "metadata": {
    "ExecuteTime": {
     "end_time": "2019-12-15T23:54:07.729173Z",
     "start_time": "2019-12-15T23:54:06.338647Z"
    }
   },
   "outputs": [
    {
     "name": "stdout",
     "output_type": "stream",
     "text": [
      "y\n",
      "y\n",
      "y\n",
      "y\n",
      "y\n",
      "y\n",
      "y\n",
      "y\n",
      "y\n",
      "y\n",
      "y\n",
      "y\n",
      "y\n",
      "y\n",
      "y\n",
      "y\n",
      "y\n",
      "y\n",
      "y\n",
      "y\n",
      "y\n",
      "y\n",
      "y\n",
      "y\n",
      "y\n",
      "y\n",
      "y\n",
      "y\n",
      "y\n",
      "y\n",
      "y\n",
      "y\n",
      "y\n",
      "y\n",
      "y\n",
      "y\n",
      "y\n",
      "y\n",
      "y\n",
      "y\n",
      "y\n",
      "y\n",
      "y\n",
      "y\n",
      "y\n",
      "y\n",
      "y\n",
      "y\n",
      "y\n",
      "y\n",
      "y\n",
      "y\n",
      "y\n",
      "y\n",
      "y\n",
      "y\n",
      "y\n",
      "y\n",
      "y\n",
      "y\n",
      "y\n",
      "y\n",
      "y\n",
      "y\n",
      "y\n",
      "y\n",
      "y\n",
      "y\n",
      "y\n",
      "y\n"
     ]
    }
   ],
   "source": [
    "dist1 = []\n",
    "for intpoint in ln1.intersection(ln2):\n",
    "    dist = 0\n",
    "    pnt = Point([0,0])\n",
    "    for i in range (int(ln1.length)):\n",
    "        if intpoint.distance(LineString([Point(ln1.coords[i]), pnt])) == 0.0: \n",
    "            dist += intpoint.distance(pnt)\n",
    "            print('y')\n",
    "            break\n",
    "        dist += Point(ln1.coords[i]).distance(pnt)\n",
    "        pnt = Point(ln1.coords[i])\n",
    "    dist1.append(dist)"
   ]
  },
  {
   "cell_type": "code",
   "execution_count": 158,
   "metadata": {
    "ExecuteTime": {
     "end_time": "2019-12-15T23:54:12.892074Z",
     "start_time": "2019-12-15T23:54:10.336528Z"
    }
   },
   "outputs": [
    {
     "name": "stdout",
     "output_type": "stream",
     "text": [
      "y\n",
      "y\n",
      "y\n",
      "y\n",
      "y\n",
      "y\n",
      "y\n",
      "y\n",
      "y\n",
      "y\n",
      "y\n",
      "y\n",
      "y\n",
      "y\n",
      "y\n",
      "y\n",
      "y\n",
      "y\n",
      "y\n",
      "y\n",
      "y\n",
      "y\n",
      "y\n",
      "y\n",
      "y\n",
      "y\n",
      "y\n",
      "y\n",
      "y\n",
      "y\n",
      "y\n",
      "y\n",
      "y\n",
      "y\n",
      "y\n",
      "y\n",
      "y\n",
      "y\n",
      "y\n",
      "y\n",
      "y\n",
      "y\n",
      "y\n",
      "y\n",
      "y\n",
      "y\n",
      "y\n",
      "y\n",
      "y\n",
      "y\n",
      "y\n",
      "y\n",
      "y\n",
      "y\n",
      "y\n",
      "y\n",
      "y\n",
      "y\n",
      "y\n",
      "y\n",
      "y\n",
      "y\n",
      "y\n",
      "y\n",
      "y\n",
      "y\n",
      "y\n",
      "y\n",
      "y\n",
      "y\n"
     ]
    }
   ],
   "source": [
    "dist2 = []\n",
    "for intpoint in ln1.intersection(ln2):\n",
    "    dist = 0\n",
    "    pnt = Point([0,0])\n",
    "    for i in range (int(ln2.length)):\n",
    "        if intpoint.distance(LineString([Point(ln2.coords[i]), pnt])) == 0.0: \n",
    "            dist += intpoint.distance(pnt)\n",
    "            print('y')\n",
    "            break\n",
    "        dist += Point(ln2.coords[i]).distance(pnt)\n",
    "        pnt = Point(ln2.coords[i])\n",
    "    dist2.append(dist)"
   ]
  },
  {
   "cell_type": "code",
   "execution_count": 163,
   "metadata": {
    "ExecuteTime": {
     "end_time": "2019-12-15T23:55:57.127661Z",
     "start_time": "2019-12-15T23:55:57.121681Z"
    }
   },
   "outputs": [],
   "source": [
    "fndist = []\n",
    "for i in range(70):\n",
    "    fndist.append(dist1[i]+dist2[i])"
   ]
  },
  {
   "cell_type": "code",
   "execution_count": 167,
   "metadata": {
    "ExecuteTime": {
     "end_time": "2019-12-15T23:56:15.587425Z",
     "start_time": "2019-12-15T23:56:15.575652Z"
    }
   },
   "outputs": [
    {
     "data": {
      "text/plain": [
       "101956.0"
      ]
     },
     "execution_count": 167,
     "metadata": {},
     "output_type": "execute_result"
    }
   ],
   "source": [
    "min(fndist)"
   ]
  },
  {
   "cell_type": "code",
   "execution_count": 144,
   "metadata": {
    "ExecuteTime": {
     "end_time": "2019-12-15T23:46:30.454636Z",
     "start_time": "2019-12-15T23:46:30.443386Z"
    }
   },
   "outputs": [
    {
     "data": {
      "image/svg+xml": [
       "<svg xmlns=\"http://www.w3.org/2000/svg\" xmlns:xlink=\"http://www.w3.org/1999/xlink\" width=\"100.0\" height=\"300\" viewBox=\"980.64 -11.36 22.720000000000027 306.72\" preserveAspectRatio=\"xMinYMin meet\"><g transform=\"matrix(1,0,0,-1,0,284.0)\"><polyline fill=\"none\" stroke=\"#66cc99\" stroke-width=\"2.0448000000000004\" points=\"992.0,0.0 992.0,284.0\" opacity=\"0.8\" /></g></svg>"
      ],
      "text/plain": [
       "<shapely.geometry.linestring.LineString at 0x823873438>"
      ]
     },
     "execution_count": 144,
     "metadata": {},
     "output_type": "execute_result"
    }
   ],
   "source": [
    "LineString([ln1.coords[0],ln1.coords[1]])"
   ]
  },
  {
   "cell_type": "code",
   "execution_count": 121,
   "metadata": {
    "ExecuteTime": {
     "end_time": "2019-12-15T23:36:29.984851Z",
     "start_time": "2019-12-15T23:36:29.969902Z"
    }
   },
   "outputs": [
    {
     "data": {
      "image/svg+xml": [
       "<svg xmlns=\"http://www.w3.org/2000/svg\" xmlns:xlink=\"http://www.w3.org/1999/xlink\" width=\"300\" height=\"300\" viewBox=\"-425.44 -5137.44 8202.88 12998.88\" preserveAspectRatio=\"xMinYMin meet\"><g transform=\"matrix(1,0,0,-1,0,2724.0)\"><polyline fill=\"none\" stroke=\"#66cc99\" stroke-width=\"86.6592\" points=\"992.0,0.0 992.0,284.0 545.0,284.0 545.0,-313.0 1433.0,-313.0 1433.0,-640.0 2382.0,-640.0 2382.0,-120.0 2409.0,-120.0 2409.0,435.0 2265.0,435.0 2265.0,151.0 2803.0,151.0 2803.0,400.0 3126.0,400.0 3126.0,697.0 3262.0,697.0 3262.0,1535.0 2558.0,1535.0 2558.0,914.0 3046.0,914.0 3046.0,1770.0 3347.0,1770.0 3347.0,2309.0 2646.0,2309.0 2646.0,2672.0 3257.0,2672.0 3257.0,2578.0 2523.0,2578.0 2523.0,2018.0 2109.0,2018.0 2109.0,2908.0 2345.0,2908.0 2345.0,2209.0 1961.0,2209.0 1961.0,1757.0 2663.0,1757.0 2663.0,1120.0 2499.0,1120.0 2499.0,1530.0 3148.0,1530.0 3148.0,2431.0 2238.0,2431.0 2238.0,1836.0 2577.0,1836.0 2577.0,1490.0 3536.0,1490.0 3536.0,2267.0 3754.0,2267.0 3754.0,1600.0 4288.0,1600.0 4288.0,838.0 4772.0,838.0 4772.0,-76.0 4747.0,-76.0 4747.0,883.0 5731.0,883.0 5731.0,-39.0 6343.0,-39.0 6343.0,960.0 6174.0,960.0 6174.0,361.0 5570.0,361.0 5570.0,4.0 5353.0,4.0 5353.0,-323.0 4623.0,-323.0 4623.0,-1272.0 4058.0,-1272.0 4058.0,-1604.0 3944.0,-1604.0 3944.0,-2116.0 4404.0,-2116.0 4404.0,-2611.0 4217.0,-2611.0 4217.0,-3308.0 4530.0,-3308.0 4530.0,-2989.0 4522.0,-2989.0 4522.0,-3904.0 4004.0,-3904.0 4004.0,-4417.0 4742.0,-4417.0 4742.0,-4408.0 4879.0,-4408.0 4879.0,-3866.0 4691.0,-3866.0 4691.0,-3426.0 5267.0,-3426.0 5267.0,-3733.0 6001.0,-3733.0 6001.0,-3675.0 6286.0,-3675.0 6286.0,-4076.0 6452.0,-4076.0 6452.0,-3920.0 5593.0,-3920.0 5593.0,-3788.0 5583.0,-3788.0 5583.0,-3035.0 4650.0,-3035.0 4650.0,-2120.0 5109.0,-2120.0 5109.0,-2170.0 5340.0,-2170.0 5340.0,-2336.0 5087.0,-2336.0 5087.0,-1492.0 5672.0,-1492.0 5672.0,-2363.0 4873.0,-2363.0 4873.0,-2310.0 5658.0,-2310.0 5658.0,-1974.0 6280.0,-1974.0 6280.0,-2082.0 6835.0,-2082.0 6835.0,-3000.0 6618.0,-3000.0 6618.0,-3668.0 6398.0,-3668.0 6398.0,-2930.0 5401.0,-2930.0 5401.0,-3928.0 6365.0,-3928.0 6365.0,-4384.0 6311.0,-4384.0 6311.0,-3454.0 7296.0,-3454.0 7296.0,-3698.0 6683.0,-3698.0 6683.0,-3814.0 5689.0,-3814.0 5689.0,-3834.0 6638.0,-3834.0 6638.0,-4079.0 5934.0,-4079.0 5934.0,-4643.0 5724.0,-4643.0 5724.0,-4656.0 6722.0,-4656.0 6722.0,-3705.0 6240.0,-3705.0 6240.0,-3126.0 5447.0,-3126.0 5447.0,-2446.0 5162.0,-2446.0 5162.0,-1676.0 4187.0,-1676.0 4187.0,-1730.0 4266.0,-1730.0 4266.0,-1117.0 3359.0,-1117.0 3359.0,-650.0 3103.0,-650.0 3103.0,-1433.0 3986.0,-1433.0 3986.0,-623.0 4395.0,-623.0 4395.0,-1131.0 3497.0,-1131.0 3497.0,-1417.0 3457.0,-1417.0 3457.0,-676.0 2698.0,-676.0 2698.0,-1225.0 2908.0,-1225.0 2908.0,-814.0 3546.0,-814.0 3546.0,-1457.0 2762.0,-1457.0 2762.0,-919.0 2023.0,-919.0 2023.0,-148.0 1250.0,-148.0 1250.0,343.0 947.0,343.0 947.0,-82.0 56.0,-82.0 56.0,100.0 468.0,100.0 468.0,1051.0 87.0,1051.0 87.0,1552.0 569.0,1552.0 569.0,927.0 1439.0,927.0 1439.0,607.0 975.0,607.0 975.0,1162.0 1541.0,1162.0 1541.0,381.0 1001.0,381.0 1001.0,-373.0 790.0,-373.0 790.0,-300.0 469.0,-300.0 469.0,-1169.0 1463.0,-1169.0 1463.0,-1346.0 1959.0,-1346.0 1959.0,-963.0 2870.0,-963.0 2870.0,-144.0 2219.0,-144.0 2219.0,-918.0 1628.0,-918.0 1628.0,-252.0 745.0,-252.0 745.0,515.0 977.0,515.0 977.0,1337.0 478.0,1337.0 478.0,1381.0 433.0,1381.0 433.0,2254.0 335.0,2254.0 335.0,1767.0 288.0,1767.0 288.0,2570.0 1143.0,2570.0 1143.0,2826.0 1710.0,2826.0 1710.0,2738.0 1848.0,2738.0 1848.0,2060.0 1811.0,2060.0 1811.0,2098.0 2594.0,2098.0 2594.0,2667.0 1948.0,2667.0 1948.0,2406.0 1351.0,2406.0 1351.0,2681.0 824.0,2681.0 824.0,2729.0 1257.0,2729.0 1257.0,2405.0 626.0,2405.0 626.0,2245.0 481.0,2245.0 481.0,2117.0 1375.0,2117.0 1375.0,2340.0 2039.0,2340.0 2039.0,2850.0 2795.0,2850.0 2795.0,2150.0 3092.0,2150.0 3092.0,1789.0 3929.0,1789.0 3929.0,2785.0 3160.0,2785.0 3160.0,3598.0 2683.0,3598.0 2683.0,4018.0 2511.0,4018.0 2511.0,4500.0 3402.0,4500.0 3402.0,4121.0 3073.0,4121.0 3073.0,4176.0 3357.0,4176.0 3357.0,4331.0 2541.0,4331.0 2541.0,4990.0 1870.0,4990.0 1870.0,5986.0 2867.0,5986.0 2867.0,6238.0 3381.0,6238.0 3381.0,5520.0 2720.0,5520.0 2720.0,4895.0 3630.0,4895.0 3630.0,3935.0 3591.0,3935.0 3591.0,4545.0 4444.0,4545.0 4444.0,5404.0 4618.0,5404.0 4618.0,5619.0 4015.0,5619.0 4015.0,6364.0 3428.0,6364.0 3428.0,5628.0 3793.0,5628.0 3793.0,5706.0 4099.0,5706.0 4099.0,5864.0 3286.0,5864.0 3286.0,6749.0 3844.0,6749.0 3844.0,7380.0 3734.0,7380.0 3734.0,7148.0 3215.0,7148.0 3215.0,6782.0 4124.0,6782.0 4124.0,6772.0 4418.0,6772.0\" opacity=\"0.8\" /></g></svg>"
      ],
      "text/plain": [
       "<shapely.geometry.linestring.LineString at 0x823206908>"
      ]
     },
     "execution_count": 121,
     "metadata": {},
     "output_type": "execute_result"
    }
   ],
   "source": [
    "for pn in ln1.intersection(ln2):\n",
    "    for sl1 in ln1:"
   ]
  },
  {
   "cell_type": "code",
   "execution_count": null,
   "metadata": {},
   "outputs": [],
   "source": []
  },
  {
   "cell_type": "code",
   "execution_count": null,
   "metadata": {},
   "outputs": [],
   "source": []
  },
  {
   "cell_type": "code",
   "execution_count": 116,
   "metadata": {
    "ExecuteTime": {
     "end_time": "2019-12-15T23:30:56.530744Z",
     "start_time": "2019-12-15T23:30:56.507443Z"
    }
   },
   "outputs": [
    {
     "data": {
      "text/plain": [
       "5357.0"
      ]
     },
     "execution_count": 116,
     "metadata": {},
     "output_type": "execute_result"
    }
   ],
   "source": [
    "min([sum(abs(np.array(pn)) - np.array([0,0])) for pn in ln1.intersection(ln2)])"
   ]
  },
  {
   "cell_type": "code",
   "execution_count": 32,
   "metadata": {
    "ExecuteTime": {
     "end_time": "2019-12-15T22:55:06.149985Z",
     "start_time": "2019-12-15T22:55:06.141735Z"
    }
   },
   "outputs": [],
   "source": [
    "def gen_new_point(start, step):\n",
    "    x,y = start\n",
    "    if step[0]=='U':\n",
    "        return [x, y + int(step[1:])]\n",
    "    if step[0]=='D':\n",
    "        return [x, y - int(step[1:])]\n",
    "    if step[0]=='L':\n",
    "        return [x - int(step[1:]), y]\n",
    "    if step[0]=='R':\n",
    "        return [x + int(step[1:]), y]"
   ]
  },
  {
   "cell_type": "code",
   "execution_count": 35,
   "metadata": {
    "ExecuteTime": {
     "end_time": "2019-12-15T22:55:22.511803Z",
     "start_time": "2019-12-15T22:55:22.490615Z"
    }
   },
   "outputs": [
    {
     "data": {
      "text/plain": [
       "[-30, 30]"
      ]
     },
     "execution_count": 35,
     "metadata": {},
     "output_type": "execute_result"
    }
   ],
   "source": [
    "gen_new_point([0, 30], 'L30')"
   ]
  },
  {
   "cell_type": "code",
   "execution_count": 114,
   "metadata": {
    "ExecuteTime": {
     "end_time": "2019-12-15T23:30:15.294863Z",
     "start_time": "2019-12-15T23:30:15.284540Z"
    }
   },
   "outputs": [
    {
     "data": {
      "text/plain": [
       "159.0"
      ]
     },
     "execution_count": 114,
     "metadata": {},
     "output_type": "execute_result"
    }
   ],
   "source": [
    "min([sum(abs(np.array(pn)) - np.array([0,0])) for pn in ln1.intersection(ln2)])"
   ]
  },
  {
   "cell_type": "code",
   "execution_count": 65,
   "metadata": {
    "ExecuteTime": {
     "end_time": "2019-12-15T23:07:33.229814Z",
     "start_time": "2019-12-15T23:07:32.880603Z"
    }
   },
   "outputs": [],
   "source": [
    "import numpy as np\n",
    "dist = []\n",
    "\n",
    "for pn in inter:\n",
    "    dist.append(sum(abs(np.array(pn)) - np.array([0,0])))"
   ]
  },
  {
   "cell_type": "code",
   "execution_count": 71,
   "metadata": {
    "ExecuteTime": {
     "end_time": "2019-12-15T23:08:19.802132Z",
     "start_time": "2019-12-15T23:08:19.784091Z"
    }
   },
   "outputs": [
    {
     "data": {
      "text/plain": [
       "56.0"
      ]
     },
     "execution_count": 71,
     "metadata": {},
     "output_type": "execute_result"
    }
   ],
   "source": [
    "np.array(dist).min()"
   ]
  },
  {
   "cell_type": "code",
   "execution_count": 77,
   "metadata": {
    "ExecuteTime": {
     "end_time": "2019-12-15T23:11:43.745843Z",
     "start_time": "2019-12-15T23:11:43.737335Z"
    }
   },
   "outputs": [],
   "source": [
    "ex1 = ['R75','D30','R83','U83','L12','D49','R71','U7','L72']\n",
    "ex2 = ['U62','R66','U55','R34','D71','R55','D58','R83']"
   ]
  },
  {
   "cell_type": "code",
   "execution_count": null,
   "metadata": {},
   "outputs": [],
   "source": []
  },
  {
   "cell_type": "code",
   "execution_count": null,
   "metadata": {},
   "outputs": [],
   "source": []
  },
  {
   "cell_type": "code",
   "execution_count": null,
   "metadata": {},
   "outputs": [],
   "source": []
  },
  {
   "cell_type": "code",
   "execution_count": null,
   "metadata": {},
   "outputs": [],
   "source": []
  },
  {
   "cell_type": "code",
   "execution_count": null,
   "metadata": {},
   "outputs": [],
   "source": []
  },
  {
   "cell_type": "code",
   "execution_count": null,
   "metadata": {},
   "outputs": [],
   "source": []
  },
  {
   "cell_type": "code",
   "execution_count": null,
   "metadata": {},
   "outputs": [],
   "source": []
  },
  {
   "cell_type": "code",
   "execution_count": 5,
   "metadata": {
    "ExecuteTime": {
     "end_time": "2019-12-15T22:44:13.434248Z",
     "start_time": "2019-12-15T22:44:13.421551Z"
    }
   },
   "outputs": [],
   "source": [
    "lst = f.readlines()"
   ]
  },
  {
   "cell_type": "code",
   "execution_count": 170,
   "metadata": {},
   "outputs": [],
   "source": [
    "word = lst[-1][:-1]"
   ]
  },
  {
   "cell_type": "code",
   "execution_count": 171,
   "metadata": {},
   "outputs": [],
   "source": [
    "word = word.split(',')"
   ]
  },
  {
   "cell_type": "code",
   "execution_count": 172,
   "metadata": {},
   "outputs": [],
   "source": [
    "word = list(map(int, word))"
   ]
  },
  {
   "cell_type": "code",
   "execution_count": 173,
   "metadata": {},
   "outputs": [],
   "source": [
    "init = word.copy()"
   ]
  },
  {
   "cell_type": "code",
   "execution_count": 149,
   "metadata": {},
   "outputs": [],
   "source": [
    "word = [1,0,0,0,99]"
   ]
  },
  {
   "cell_type": "code",
   "execution_count": 157,
   "metadata": {},
   "outputs": [],
   "source": [
    "word[1] = 12\n",
    "word[2] = 2"
   ]
  },
  {
   "cell_type": "code",
   "execution_count": 175,
   "metadata": {},
   "outputs": [
    {
     "data": {
      "text/plain": [
       "[1,\n",
       " 0,\n",
       " 0,\n",
       " 3,\n",
       " 1,\n",
       " 1,\n",
       " 2,\n",
       " 3,\n",
       " 1,\n",
       " 3,\n",
       " 4,\n",
       " 3,\n",
       " 1,\n",
       " 5,\n",
       " 0,\n",
       " 3,\n",
       " 2,\n",
       " 13,\n",
       " 1,\n",
       " 19,\n",
       " 1,\n",
       " 19,\n",
       " 6,\n",
       " 23,\n",
       " 1,\n",
       " 23,\n",
       " 6,\n",
       " 27,\n",
       " 1,\n",
       " 13,\n",
       " 27,\n",
       " 31,\n",
       " 2,\n",
       " 13,\n",
       " 31,\n",
       " 35,\n",
       " 1,\n",
       " 5,\n",
       " 35,\n",
       " 39,\n",
       " 2,\n",
       " 39,\n",
       " 13,\n",
       " 43,\n",
       " 1,\n",
       " 10,\n",
       " 43,\n",
       " 47,\n",
       " 2,\n",
       " 13,\n",
       " 47,\n",
       " 51,\n",
       " 1,\n",
       " 6,\n",
       " 51,\n",
       " 55,\n",
       " 2,\n",
       " 55,\n",
       " 13,\n",
       " 59,\n",
       " 1,\n",
       " 59,\n",
       " 10,\n",
       " 63,\n",
       " 1,\n",
       " 63,\n",
       " 10,\n",
       " 67,\n",
       " 2,\n",
       " 10,\n",
       " 67,\n",
       " 71,\n",
       " 1,\n",
       " 6,\n",
       " 71,\n",
       " 75,\n",
       " 1,\n",
       " 10,\n",
       " 75,\n",
       " 79,\n",
       " 1,\n",
       " 79,\n",
       " 9,\n",
       " 83,\n",
       " 2,\n",
       " 83,\n",
       " 6,\n",
       " 87,\n",
       " 2,\n",
       " 87,\n",
       " 9,\n",
       " 91,\n",
       " 1,\n",
       " 5,\n",
       " 91,\n",
       " 95,\n",
       " 1,\n",
       " 6,\n",
       " 95,\n",
       " 99,\n",
       " 1,\n",
       " 99,\n",
       " 9,\n",
       " 103,\n",
       " 2,\n",
       " 10,\n",
       " 103,\n",
       " 107,\n",
       " 1,\n",
       " 107,\n",
       " 6,\n",
       " 111,\n",
       " 2,\n",
       " 9,\n",
       " 111,\n",
       " 115,\n",
       " 1,\n",
       " 5,\n",
       " 115,\n",
       " 119,\n",
       " 1,\n",
       " 10,\n",
       " 119,\n",
       " 123,\n",
       " 1,\n",
       " 2,\n",
       " 123,\n",
       " 127,\n",
       " 1,\n",
       " 127,\n",
       " 6,\n",
       " 0,\n",
       " 99,\n",
       " 2,\n",
       " 14,\n",
       " 0,\n",
       " 0]"
      ]
     },
     "execution_count": 175,
     "metadata": {},
     "output_type": "execute_result"
    }
   ],
   "source": [
    "init"
   ]
  },
  {
   "cell_type": "code",
   "execution_count": 176,
   "metadata": {},
   "outputs": [
    {
     "name": "stdout",
     "output_type": "stream",
     "text": [
      "20 3\n"
     ]
    }
   ],
   "source": [
    "for i in range(100):\n",
    "    for j in range(100):\n",
    "        word = init.copy()\n",
    "        word[1] = i\n",
    "        word[2] = j\n",
    "        anchor = 0\n",
    "        while word[anchor] != 99:\n",
    "            if word[anchor] == 1:\n",
    "                word[word[anchor+3]] = word[word[anchor+2]]+word[word[anchor+1]]\n",
    "            elif word[anchor] == 2:\n",
    "                word[word[anchor+3]] = word[word[anchor+2]]*word[word[anchor+1]]\n",
    "            else:\n",
    "                print('shit', word[anchor])\n",
    "                break\n",
    "            anchor+=4\n",
    "        if word[0] == 19690720: print(i,j)\n",
    "        "
   ]
  },
  {
   "cell_type": "code",
   "execution_count": 67,
   "metadata": {},
   "outputs": [],
   "source": [
    "fnfn = 0\n",
    "for line in lst:\n",
    "    fn = 0\n",
    "    incr = int(line[:-1])\n",
    "    while incr > 0:\n",
    "        fn += incr\n",
    "        incr = incr // 3 -2\n",
    "    fnfn+= (fn - int(line[:-1]))"
   ]
  },
  {
   "cell_type": "code",
   "execution_count": 48,
   "metadata": {},
   "outputs": [],
   "source": [
    "lst = f.readlines()"
   ]
  },
  {
   "cell_type": "code",
   "execution_count": 28,
   "metadata": {},
   "outputs": [
    {
     "data": {
      "text/plain": [
       "5612"
      ]
     },
     "execution_count": 28,
     "metadata": {},
     "output_type": "execute_result"
    }
   ],
   "source": [
    "int(lst[0][:-2])"
   ]
  },
  {
   "cell_type": "code",
   "execution_count": 68,
   "metadata": {},
   "outputs": [
    {
     "data": {
      "text/plain": [
       "4832253"
      ]
     },
     "execution_count": 68,
     "metadata": {},
     "output_type": "execute_result"
    }
   ],
   "source": [
    "fnfn"
   ]
  },
  {
   "cell_type": "code",
   "execution_count": null,
   "metadata": {},
   "outputs": [],
   "source": []
  },
  {
   "cell_type": "code",
   "execution_count": 64,
   "metadata": {},
   "outputs": [
    {
     "name": "stdout",
     "output_type": "stream",
     "text": [
      "1074464\n",
      "358152\n",
      "119382\n",
      "39792\n",
      "13262\n",
      "4418\n",
      "1470\n",
      "488\n",
      "160\n",
      "51\n",
      "15\n",
      "3\n",
      "-1\n",
      "1611657\n"
     ]
    }
   ],
   "source": [
    "fn = 0\n",
    "incr = 3223398\n",
    "while incr > 0:\n",
    "    fn += incr\n",
    "    incr = incr // 3 -2\n",
    "    print (incr)\n",
    "fnfn+= (fn - 3223398)"
   ]
  },
  {
   "cell_type": "code",
   "execution_count": 61,
   "metadata": {},
   "outputs": [
    {
     "data": {
      "text/plain": [
       "1611657"
      ]
     },
     "execution_count": 61,
     "metadata": {},
     "output_type": "execute_result"
    }
   ],
   "source": [
    "fn - 3223398"
   ]
  },
  {
   "cell_type": "code",
   "execution_count": null,
   "metadata": {},
   "outputs": [],
   "source": []
  },
  {
   "cell_type": "code",
   "execution_count": 41,
   "metadata": {},
   "outputs": [
    {
     "data": {
      "text/plain": [
       "33583"
      ]
     },
     "execution_count": 41,
     "metadata": {},
     "output_type": "execute_result"
    }
   ],
   "source": [
    "100756//3 -2"
   ]
  },
  {
   "cell_type": "code",
   "execution_count": 49,
   "metadata": {},
   "outputs": [
    {
     "data": {
      "text/plain": [
       "['56123\\n',\n",
       " '145192\\n',\n",
       " '123702\\n',\n",
       " '66722\\n',\n",
       " '148748\\n',\n",
       " '53337\\n',\n",
       " '147279\\n',\n",
       " '126828\\n',\n",
       " '118438\\n',\n",
       " '54030\\n',\n",
       " '145839\\n',\n",
       " '87751\\n',\n",
       " '58832\\n',\n",
       " '90085\\n',\n",
       " '113196\\n',\n",
       " '104802\\n',\n",
       " '61235\\n',\n",
       " '136935\\n',\n",
       " '108620\\n',\n",
       " '60795\\n',\n",
       " '107908\\n',\n",
       " '123023\\n',\n",
       " '142399\\n',\n",
       " '131074\\n',\n",
       " '123411\\n',\n",
       " '122653\\n',\n",
       " '84776\\n',\n",
       " '100891\\n',\n",
       " '78816\\n',\n",
       " '62762\\n',\n",
       " '92077\\n',\n",
       " '91428\\n',\n",
       " '56831\\n',\n",
       " '65122\\n',\n",
       " '94694\\n',\n",
       " '78668\\n',\n",
       " '112506\\n',\n",
       " '73406\\n',\n",
       " '118239\\n',\n",
       " '57897\\n',\n",
       " '59200\\n',\n",
       " '54437\\n',\n",
       " '55185\\n',\n",
       " '102667\\n',\n",
       " '86076\\n',\n",
       " '80655\\n',\n",
       " '83406\\n',\n",
       " '141502\\n',\n",
       " '67171\\n',\n",
       " '88472\\n',\n",
       " '149260\\n',\n",
       " '68395\\n',\n",
       " '56828\\n',\n",
       " '108798\\n',\n",
       " '125682\\n',\n",
       " '68203\\n',\n",
       " '118263\\n',\n",
       " '101824\\n',\n",
       " '94853\\n',\n",
       " '68536\\n',\n",
       " '95646\\n',\n",
       " '120283\\n',\n",
       " '135355\\n',\n",
       " '82701\\n',\n",
       " '92243\\n',\n",
       " '122282\\n',\n",
       " '55760\\n',\n",
       " '129959\\n',\n",
       " '142814\\n',\n",
       " '56599\\n',\n",
       " '70836\\n',\n",
       " '69996\\n',\n",
       " '85262\\n',\n",
       " '126648\\n',\n",
       " '69043\\n',\n",
       " '67460\\n',\n",
       " '119934\\n',\n",
       " '82453\\n',\n",
       " '147012\\n',\n",
       " '72957\\n',\n",
       " '53374\\n',\n",
       " '97577\\n',\n",
       " '59696\\n',\n",
       " '121630\\n',\n",
       " '122666\\n',\n",
       " '116591\\n',\n",
       " '145967\\n',\n",
       " '75699\\n',\n",
       " '85963\\n',\n",
       " '140970\\n',\n",
       " '75612\\n',\n",
       " '78792\\n',\n",
       " '100795\\n',\n",
       " '92034\\n',\n",
       " '132569\\n',\n",
       " '117172\\n',\n",
       " '134179\\n',\n",
       " '109504\\n',\n",
       " '103707\\n',\n",
       " '54664\\n']"
      ]
     },
     "execution_count": 49,
     "metadata": {},
     "output_type": "execute_result"
    }
   ],
   "source": [
    "lst"
   ]
  },
  {
   "cell_type": "code",
   "execution_count": 51,
   "metadata": {},
   "outputs": [
    {
     "data": {
      "text/plain": [
       "['56123',\n",
       " '145192',\n",
       " '123702',\n",
       " '66722',\n",
       " '148748',\n",
       " '53337',\n",
       " '147279',\n",
       " '126828',\n",
       " '118438',\n",
       " '54030',\n",
       " '145839',\n",
       " '87751',\n",
       " '58832',\n",
       " '90085',\n",
       " '113196',\n",
       " '104802',\n",
       " '61235',\n",
       " '136935',\n",
       " '108620',\n",
       " '60795',\n",
       " '107908',\n",
       " '123023',\n",
       " '142399',\n",
       " '131074',\n",
       " '123411',\n",
       " '122653',\n",
       " '84776',\n",
       " '100891',\n",
       " '78816',\n",
       " '62762',\n",
       " '92077',\n",
       " '91428',\n",
       " '56831',\n",
       " '65122',\n",
       " '94694',\n",
       " '78668',\n",
       " '112506',\n",
       " '73406',\n",
       " '118239',\n",
       " '57897',\n",
       " '59200',\n",
       " '54437',\n",
       " '55185',\n",
       " '102667',\n",
       " '86076',\n",
       " '80655',\n",
       " '83406',\n",
       " '141502',\n",
       " '67171',\n",
       " '88472',\n",
       " '149260',\n",
       " '68395',\n",
       " '56828',\n",
       " '108798',\n",
       " '125682',\n",
       " '68203',\n",
       " '118263',\n",
       " '101824',\n",
       " '94853',\n",
       " '68536',\n",
       " '95646',\n",
       " '120283',\n",
       " '135355',\n",
       " '82701',\n",
       " '92243',\n",
       " '122282',\n",
       " '55760',\n",
       " '129959',\n",
       " '142814',\n",
       " '56599',\n",
       " '70836',\n",
       " '69996',\n",
       " '85262',\n",
       " '126648',\n",
       " '69043',\n",
       " '67460',\n",
       " '119934',\n",
       " '82453',\n",
       " '147012',\n",
       " '72957',\n",
       " '53374',\n",
       " '97577',\n",
       " '59696',\n",
       " '121630',\n",
       " '122666',\n",
       " '116591',\n",
       " '145967',\n",
       " '75699',\n",
       " '85963',\n",
       " '140970',\n",
       " '75612',\n",
       " '78792',\n",
       " '100795',\n",
       " '92034',\n",
       " '132569',\n",
       " '117172',\n",
       " '134179',\n",
       " '109504',\n",
       " '103707',\n",
       " '54664']"
      ]
     },
     "execution_count": 51,
     "metadata": {},
     "output_type": "execute_result"
    }
   ],
   "source": [
    "[line[:-1] for line in lst]"
   ]
  },
  {
   "cell_type": "code",
   "execution_count": null,
   "metadata": {},
   "outputs": [],
   "source": []
  }
 ],
 "metadata": {
  "kernelspec": {
   "display_name": "Python 3",
   "language": "python",
   "name": "python3"
  },
  "language_info": {
   "codemirror_mode": {
    "name": "ipython",
    "version": 3
   },
   "file_extension": ".py",
   "mimetype": "text/x-python",
   "name": "python",
   "nbconvert_exporter": "python",
   "pygments_lexer": "ipython3",
   "version": "3.7.3"
  },
  "toc": {
   "base_numbering": 1,
   "nav_menu": {},
   "number_sections": true,
   "sideBar": true,
   "skip_h1_title": false,
   "title_cell": "Table of Contents",
   "title_sidebar": "Contents",
   "toc_cell": false,
   "toc_position": {},
   "toc_section_display": true,
   "toc_window_display": false
  },
  "varInspector": {
   "cols": {
    "lenName": 16,
    "lenType": 16,
    "lenVar": 40
   },
   "kernels_config": {
    "python": {
     "delete_cmd_postfix": "",
     "delete_cmd_prefix": "del ",
     "library": "var_list.py",
     "varRefreshCmd": "print(var_dic_list())"
    },
    "r": {
     "delete_cmd_postfix": ") ",
     "delete_cmd_prefix": "rm(",
     "library": "var_list.r",
     "varRefreshCmd": "cat(var_dic_list()) "
    }
   },
   "types_to_exclude": [
    "module",
    "function",
    "builtin_function_or_method",
    "instance",
    "_Feature"
   ],
   "window_display": false
  }
 },
 "nbformat": 4,
 "nbformat_minor": 2
}
